{
 "cells": [
  {
   "cell_type": "code",
   "execution_count": null,
   "metadata": {},
   "outputs": [],
   "source": [
    "from secedgar import CompanyFilings, FilingType\n",
    "\n",
    "my_filings = CompanyFilings(cik_lookup=['aapl', 'msft', 'Facebook'],\n",
    "                            filing_type=FilingType.FILING_10Q,\n",
    "                            count=15,\n",
    "                            user_agent='Name (email)')\n",
    "\n",
    "my_filings.save('./data_tests')"
   ]
  },
  {
   "cell_type": "code",
   "execution_count": null,
   "metadata": {},
   "outputs": [],
   "source": [
    "from datetime import date\n",
    "from secedgar import filings\n",
    "\n",
    "# all quarterly filings\n",
    "quarterly_filings = filings(start_date=date(2020, 1 ,1),\n",
    "                            end_date=date(2020, 3, 31),\n",
    "                            user_agent=\"Name (email)\")\n",
    "quarterly_filings.save(\"/path/to/directory\")\n",
    "\n",
    "# limit which quarterly filings to use\n",
    "# saves only 10-K and 10-Q filings from quarter\n",
    "limit_to_10k_10q = lambda f: f.form_type.lower() in (\"10-k\", \"10-q\")\n",
    "quarterly_filings_limited = filings(start_date=date(2020, 1 ,1),\n",
    "                                    end_date=date(2020, 3, 31),\n",
    "                                    user_agent=\"Name (email)\",\n",
    "                                    entry_filter=limit_to_10k_10q)\n",
    "quarterly_filings_limited.save('./data_tests')\n",
    "\n"
   ]
  },
  {
   "cell_type": "code",
   "execution_count": 16,
   "metadata": {},
   "outputs": [
    {
     "ename": "TypeError",
     "evalue": "'module' object is not callable",
     "output_type": "error",
     "traceback": [
      "\u001b[1;31m---------------------------------------------------------------------------\u001b[0m",
      "\u001b[1;31mTypeError\u001b[0m                                 Traceback (most recent call last)",
      "\u001b[1;32m~\\AppData\\Local\\Temp/ipykernel_12008/1952012495.py\u001b[0m in \u001b[0;36m<module>\u001b[1;34m\u001b[0m\n\u001b[0;32m      3\u001b[0m \u001b[1;33m\u001b[0m\u001b[0m\n\u001b[0;32m      4\u001b[0m \u001b[1;33m\u001b[0m\u001b[0m\n\u001b[1;32m----> 5\u001b[1;33m filing = filings(cik_lookup='aapl',\n\u001b[0m\u001b[0;32m      6\u001b[0m                 \u001b[0mfiling_type\u001b[0m\u001b[1;33m=\u001b[0m\u001b[0mFilingType\u001b[0m\u001b[1;33m.\u001b[0m\u001b[0mFILING_4\u001b[0m\u001b[1;33m,\u001b[0m\u001b[1;33m\u001b[0m\u001b[1;33m\u001b[0m\u001b[0m\n\u001b[0;32m      7\u001b[0m                 \u001b[0mstart_date\u001b[0m\u001b[1;33m=\u001b[0m\u001b[0mdatetime\u001b[0m\u001b[1;33m(\u001b[0m\u001b[1;36m2019\u001b[0m\u001b[1;33m,\u001b[0m \u001b[1;36m7\u001b[0m\u001b[1;33m,\u001b[0m \u001b[1;36m1\u001b[0m\u001b[1;33m)\u001b[0m\u001b[1;33m,\u001b[0m\u001b[1;33m\u001b[0m\u001b[1;33m\u001b[0m\u001b[0m\n",
      "\u001b[1;31mTypeError\u001b[0m: 'module' object is not callable"
     ]
    }
   ],
   "source": [
    "from datetime import datetime\n",
    "from secedgar.core import FilingType,filings\n",
    "\n",
    "\n",
    "filing = filings(cik_lookup='aapl',\n",
    "                filing_type=FilingType.FILING_4,\n",
    "                start_date=datetime(2019, 7, 1),\n",
    "                end_date=datetime(2020, 6, 30))"
   ]
  },
  {
   "cell_type": "code",
   "execution_count": null,
   "metadata": {},
   "outputs": [],
   "source": []
  }
 ],
 "metadata": {
  "interpreter": {
   "hash": "db9e61cb66a89e1ce3a08e30bed46312b7e1e5902edb9664b2133f8d0762dbcb"
  },
  "kernelspec": {
   "display_name": "Python 3.9.7 64-bit ('venv': venv)",
   "name": "python3"
  },
  "language_info": {
   "codemirror_mode": {
    "name": "ipython",
    "version": 3
   },
   "file_extension": ".py",
   "mimetype": "text/x-python",
   "name": "python",
   "nbconvert_exporter": "python",
   "pygments_lexer": "ipython3",
   "version": "3.9.7"
  },
  "orig_nbformat": 4
 },
 "nbformat": 4,
 "nbformat_minor": 2
}
